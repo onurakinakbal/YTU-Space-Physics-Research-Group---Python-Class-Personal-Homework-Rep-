{
 "cells": [
  {
   "cell_type": "markdown",
   "id": "71cd1992",
   "metadata": {},
   "source": [
    "# Programlama Ödevi - Döngüler\n",
    "\n",
    "\n",
    "### Problem 1\n",
    "Kullanıcıdan aldığınız sayının mükemmel olup olmadığını bulan programı yazın.\n",
    "\n",
    "Mükemmel sayı nedir, kendi hariç bölenlerinin toplamı kendisine eşitse bu mükemmel sayıdır. Örnek 6 --> 1 + 2 + 3 = 6\n",
    "\n",
    "### Problem 2\n",
    "Kullanıcıdan aldığınız sayının \"armstrong\" sayısı olup olmadığını bulan programı yazın.\n",
    "\n",
    "Armstrong sayısı: 3 basamaklı sayılar için ---> Basamaklarının küpleri toplamı kendisine eşit olan sayılara Armstrong sayı denir.\n",
    "\n",
    "Örnek: 407 için = (4*4*4)+(7*7*7)=470 Bu yüzden 407 armstrong bir sayıdır.\n",
    "### Problem 3\n",
    "İç içe for döngüsü kullanarak 1'den 10'a kadar olan sayıların çarpım tablosunu ekrana yazdırın.\n",
    "\n",
    "### Problem 4\n",
    "Her bir while döngüsünde kullanıcıdan bir sayı alın ve kullanıcının girdiği sayıları \"toplam\" isimli bir değişkene ekleyin. Kullanıcı \"q\" tuşuna bastığı zaman döngüyü sonlandırın ve ekrana \"toplam değişkenini\" bastırın.\n",
    "\n",
    "*İpucu : while döngüsünü sonsuz koşulla başlatın ve kullanıcı q'ya basarsa döngüyü break ile sonlandırın.*\n",
    "\n",
    "### Problem 5\n",
    "1'den 100'e kadar olan sayılardan sadece 3'e bölünen sayıları ekrana bastırın. Bu işlemi *continue* ile yapmaya çalışın.\n",
    "\n",
    "*!problem 4 ve problem 5 Mustafa Murat Coşkun'un ders notlarından alındı"
   ]
  },
  {
   "cell_type": "markdown",
   "id": "97b7b151",
   "metadata": {},
   "source": [
    "# ÇÖZÜMLER"
   ]
  },
  {
   "cell_type": "markdown",
   "id": "0ef92611",
   "metadata": {},
   "source": [
    "## Problem 1\n"
   ]
  },
  {
   "cell_type": "code",
   "execution_count": 3,
   "id": "994351cc",
   "metadata": {},
   "outputs": [
    {
     "name": "stdout",
     "output_type": "stream",
     "text": [
      "Buraya girdiginiz degerin mukemmel sayi olup olmadigini gosterir     10\n",
      "Mükemmel Sayi Degildir\n"
     ]
    }
   ],
   "source": [
    "m=int(input(\"Buraya girdiginiz degerin mukemmel sayi olup olmadigini gosterir     \"))\n",
    "\n",
    "toplam=0\n",
    " \n",
    "for i in range(1,m):\n",
    "    if(m%i == 0):\n",
    "        toplam += i\n",
    "if(m == toplam):\n",
    "    print(\"Mükemmel Sayidir.\")\n",
    "else:\n",
    "    print(\"Mükemmel Sayi Degildir\")"
   ]
  },
  {
   "cell_type": "markdown",
   "id": "e56f0b4d",
   "metadata": {},
   "source": [
    "## Problem 2\n"
   ]
  },
  {
   "cell_type": "code",
   "execution_count": null,
   "id": "b122c64d",
   "metadata": {},
   "outputs": [],
   "source": [
    "##Basamaklara ayırma işlemi\n",
    "\n",
    "a=int(input(\"sayı giriniz:   \"))\n",
    "b=a\n",
    "z=a%10\n",
    "y=a%100\n",
    "y=int((y-(y%10))/10)\n",
    "x=a%1000\n",
    "x=int((x-(x%100))/100)\n",
    "print(x,y,z)\n",
    "\n",
    "# küpler toplamının hesabı\n",
    "\n",
    "cubeSum=x**3+y**3+z**3\n",
    "print(cubeSum)\n",
    "\n",
    "if b == cubeSum:\n",
    "    print(\"Evreka!\")\n",
    "else:\n",
    "    print(\"Yeterince armSTRONG değil WEAK!!!\")"
   ]
  },
  {
   "cell_type": "markdown",
   "id": "f34abda3",
   "metadata": {},
   "source": [
    "## Problem 3"
   ]
  },
  {
   "cell_type": "code",
   "execution_count": null,
   "id": "038153fe",
   "metadata": {},
   "outputs": [],
   "source": [
    "######### Benim Çözümüm\n",
    "for i in range (0,9):\n",
    "    i+=1\n",
    "    for a in range (1,11):\n",
    "        b=i*a\n",
    "        theList=[]\n",
    "        theList.append(b)\n",
    "        print(theList)\n",
    "####################################################################\n",
    "######### Olması Gereken Çözüm\n",
    "for i in range(1,11):\n",
    "  print(\"*****************************************\")\n",
    "\n",
    "  for j in range(1,11):\n",
    "\n",
    "    print(\"{} X {} = {}\".format(i,j,i*j))"
   ]
  },
  {
   "cell_type": "markdown",
   "id": "ec8fa778",
   "metadata": {},
   "source": [
    "## Problem 4"
   ]
  },
  {
   "cell_type": "code",
   "execution_count": null,
   "id": "33fb54d9",
   "metadata": {},
   "outputs": [],
   "source": [
    "toplam=0\n",
    "while True:\n",
    "    inputInteger=input(\"toplamlarini ogrenmek istediginiz sayilari giriniz: \")\n",
    "    \n",
    "    if inputInteger != \"q\":\n",
    "        print(\"\\n q girerek toplami goruntuleyebilirsiniz\")\n",
    "        toplam+= int(inputInteger)\n",
    "    elif inputInteger ==\"q\":\n",
    "        break\n",
    "print(toplam)"
   ]
  },
  {
   "cell_type": "markdown",
   "id": "5a69a103",
   "metadata": {},
   "source": [
    "## Problem 5 \n"
   ]
  },
  {
   "cell_type": "code",
   "execution_count": 13,
   "id": "455e3fb1",
   "metadata": {},
   "outputs": [
    {
     "name": "stdout",
     "output_type": "stream",
     "text": [
      "3\n",
      "6\n",
      "9\n",
      "12\n",
      "15\n",
      "18\n",
      "21\n",
      "24\n",
      "27\n",
      "30\n",
      "33\n",
      "36\n",
      "39\n",
      "42\n",
      "45\n",
      "48\n",
      "51\n",
      "54\n",
      "57\n",
      "60\n",
      "63\n",
      "66\n",
      "69\n",
      "72\n",
      "75\n",
      "78\n",
      "81\n",
      "84\n",
      "87\n",
      "90\n",
      "93\n",
      "96\n",
      "99\n",
      "3\n",
      "6\n",
      "9\n",
      "12\n",
      "15\n",
      "18\n",
      "21\n",
      "24\n",
      "27\n",
      "30\n",
      "33\n",
      "36\n",
      "39\n",
      "42\n",
      "45\n",
      "48\n",
      "51\n",
      "54\n",
      "57\n",
      "60\n",
      "63\n",
      "66\n",
      "69\n",
      "72\n",
      "75\n",
      "78\n",
      "81\n",
      "84\n",
      "87\n",
      "90\n",
      "93\n",
      "96\n",
      "99\n"
     ]
    }
   ],
   "source": [
    "### continue olmadan\n",
    "for k in range(1,101):\n",
    "    if k%3==0:\n",
    "        print(k)\n",
    "        \n",
    "### continue ile\n",
    "for l in range(1,101):\n",
    "    if l%3!=0:\n",
    "        continue\n",
    "    print(l)\n"
   ]
  }
 ],
 "metadata": {
  "kernelspec": {
   "display_name": "Python 3 (ipykernel)",
   "language": "python",
   "name": "python3"
  },
  "language_info": {
   "codemirror_mode": {
    "name": "ipython",
    "version": 3
   },
   "file_extension": ".py",
   "mimetype": "text/x-python",
   "name": "python",
   "nbconvert_exporter": "python",
   "pygments_lexer": "ipython3",
   "version": "3.11.4"
  }
 },
 "nbformat": 4,
 "nbformat_minor": 5
}
