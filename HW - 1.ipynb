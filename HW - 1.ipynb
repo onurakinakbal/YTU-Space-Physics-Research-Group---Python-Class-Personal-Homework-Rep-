{
 "cells": [
  {
   "cell_type": "markdown",
   "id": "c0cb17d6",
   "metadata": {},
   "source": [
    "# Programlama Ödevi - Python Objeleri ve Veri Yapıları\n",
    "\n",
    "### Problem 1\n",
    "Kullanıcıdan 3 tane sayı alarak bunların çarpımını ekrana **format** metodu ile yazdırın\n",
    "\n",
    "### Problem 2\n",
    "Kullanıcıdan boy ve kilo bilgilerini alın ve bu değerlere göre beden kitle indeksini hesaplayın.\n",
    "\n",
    "*Beden Kitle İndeksi: kilo / boy (m) * boy (m)*\n",
    "\n",
    "### Problem 3\n",
    "Kullanıcıdan istediğiniz iki sayıyı eşitleyin ve ekranda gösterin.\n",
    "Örnek *a = 5, b = 3* ise *a = 3, b = 5* olacak\n",
    "\n",
    "### Problem 4\n",
    "Kullanıcıdan bir dik üçgenin iki kenarını alın ve hipotenüs uzunluğunu hesaplayın.\n",
    "\n",
    "Hipotenüs Formülü: a^2 + b^2 = c^2\n",
    "\n",
    "*Bir sayının karesini ve kökünü nasıl alacağınızı araştırıp öğreniniz*\n",
    "\n"
   ]
  },
  {
   "cell_type": "code",
   "execution_count": 2,
   "id": "a4e3e18d",
   "metadata": {},
   "outputs": [
    {
     "name": "stdout",
     "output_type": "stream",
     "text": [
      "Lutfen uc sayi giriniz 7\n",
      "Lutfen iki sayi giriniz 9\n",
      "Lutfen bir sayi giriniz 3\n",
      "189.0\n",
      "Sonucunuz: 189.0\n"
     ]
    }
   ],
   "source": [
    "##PROBLEM 1##\n",
    "\n",
    "\n",
    "x=float(input(\"Lutfen uc sayi giriniz \"))\n",
    "y=float(input(\"Lutfen iki sayi giriniz \"))\n",
    "z=float(input(\"Lutfen bir sayi giriniz \"))\n",
    "\n",
    "carpim=x*y*z\n",
    "\n",
    "print(carpim)\n",
    "\n",
    "\n",
    "#ya da#\n",
    "\n",
    "str(carpim)\n",
    "print(\"Sonucunuz: {}\".format(carpim))\n"
   ]
  },
  {
   "cell_type": "code",
   "execution_count": 4,
   "id": "f193113e",
   "metadata": {},
   "outputs": [
    {
     "name": "stdout",
     "output_type": "stream",
     "text": [
      "Beden kitle indeksi uzerine yazdıgımız bu kod parcasına hos geldiniz...\n",
      "\n",
      "Lutfen kilonuzu kilogram cinsinden giriniz:    120\n",
      "Lutfen boyunuzu metre cinsinden giriniz:       1.74\n",
      "39.63535473642489\n"
     ]
    }
   ],
   "source": [
    "##PROBLEM 2##\n",
    "\n",
    "print(\"Beden kitle indeksi uzerine yazdıgımız bu kod parcasına hos geldiniz...\\n\")\n",
    "kilo=float(input(\"Lutfen kilonuzu kilogram cinsinden giriniz:    \"))\n",
    "boy=float(input(\"Lutfen boyunuzu metre cinsinden giriniz:       \"))\n",
    "\n",
    "BedenKitleIndeksi= kilo/(boy**2)\n",
    "\n",
    "print(BedenKitleIndeksi)"
   ]
  },
  {
   "cell_type": "code",
   "execution_count": 7,
   "id": "7329cbdf",
   "metadata": {},
   "outputs": [
    {
     "name": "stdout",
     "output_type": "stream",
     "text": [
      "15'in bir çarpanini girin    5\n",
      " 5.0'in eslenigi 3'tur.\n"
     ]
    }
   ],
   "source": [
    "##PROBLEM 3##\n",
    "\n",
    "\n",
    "a=float(input(\"15'in bir çarpanini girin    \"))\n",
    "if a==5:\n",
    "    print(\" {}'in eslenigi 3\\'tur.\".format(a))\n",
    "\n",
    "elif a==3 :\n",
    "    print(\" {}'in eslenigi 5\\'tir.\".format(a))\n",
    "    \n",
    "elif a==15:\n",
    "    print(\" {}'in eslenigi 1\\'dir.\".format(a))\n",
    "    \n",
    "elif a==1:\n",
    "    print(\" {}'in eslenigi 15\\'tir.\".format(a))\n",
    "    \n",
    "else:\n",
    "    print(\"Bu sayı 15'in çarpani değildir.\")\n"
   ]
  },
  {
   "cell_type": "code",
   "execution_count": 10,
   "id": "a724bf13",
   "metadata": {},
   "outputs": [
    {
     "name": "stdout",
     "output_type": "stream",
     "text": [
      "Merhaba kullanici gorunen o ki uc koseli dik kafali bir problemin var. Pisagor'un aksine biz sirlarimizi paylasıyoruz! \n",
      "\n",
      "Lütfen bize bu dik kafali ucgenin dik kenarlarindan ilkini ver              3.5\n",
      "Diger kenari da verebilirsen o dik kafalinin eğik burnunu da bulabiliriz     4\n",
      "\n",
      "Eğik burun 5.315072906367325 metreymis. Pinokyo mubarek.\n",
      "Olurda kendinde saglamasini yapmak istersen: Bir ucgenin dik kenarlarinin kareleri toplami hipotenusun karesine esittir.\n"
     ]
    }
   ],
   "source": [
    "##PROBLEM 4##\n",
    "\n",
    "\n",
    "print(\"Merhaba kullanici gorunen o ki uc koseli dik kafali bir problemin var. Pisagor'un aksine biz sirlarimizi paylasıyoruz! \")\n",
    "\n",
    "k=float(input(\"\\nLütfen bize bu dik kafali ucgenin dik kenarlarindan ilkini ver              \"))\n",
    "l=float(input(\"Diger kenari da verebilirsen o dik kafalinin eğik burnunu da bulabiliriz     \"))\n",
    "c=k**2+l**2\n",
    "m=pow(c,1/2)\n",
    "\n",
    "print(\"\\nEğik burun {} metreymis. Pinokyo mubarek.\\nOlurda kendinde saglamasini yapmak istersen: Bir ucgenin dik kenarlarinin kareleri toplami hipotenusun karesine esittir.\".format(m))"
   ]
  },
  {
   "cell_type": "code",
   "execution_count": null,
   "id": "afb1512c",
   "metadata": {},
   "outputs": [],
   "source": []
  }
 ],
 "metadata": {
  "kernelspec": {
   "display_name": "Python 3 (ipykernel)",
   "language": "python",
   "name": "python3"
  },
  "language_info": {
   "codemirror_mode": {
    "name": "ipython",
    "version": 3
   },
   "file_extension": ".py",
   "mimetype": "text/x-python",
   "name": "python",
   "nbconvert_exporter": "python",
   "pygments_lexer": "ipython3",
   "version": "3.11.4"
  }
 },
 "nbformat": 4,
 "nbformat_minor": 5
}
