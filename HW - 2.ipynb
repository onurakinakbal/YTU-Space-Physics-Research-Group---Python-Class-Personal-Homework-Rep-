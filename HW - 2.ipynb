{
 "cells": [
  {
   "cell_type": "markdown",
   "id": "d106ac77",
   "metadata": {},
   "source": [
    "# Programlama Ödevi - Koşullu Durumlar\n",
    "\n",
    "### Problem 1\n",
    "Kullanıcıdan aldığınız boy ve kilo bilgileriyle benden kitle indeksini hesaplayın ve ekrana şu kurallara göre bilgiyi yazdırın\n",
    "\n",
    "Beden Kitle İndeksi: Kilo / Boy(m) *  Boy(m)\n",
    "\n",
    "BKİ 18.5'un altındaysa -------> Zayıf\n",
    "\n",
    "BKİ 18.5 ile 25 arasındaysa ------> Normal\n",
    "\n",
    "BKİ 25 ile 30 arasındaysa --------> Fazla Kilolu\n",
    "\n",
    "BKİ 30'un üstündeyse -------------> Obez\n",
    "\n",
    "### Problem 2\n",
    "Kullanıcıdan 3 tane sayı alın ve en büyük sayıyı ekrana yazdırın.\n",
    "*Ek olarak büyükten küçüğe yazdırmanız pratik olacaktır*\n",
    "\n",
    "### Problem 3\n",
    "Kullanıcının girdiği vize1,vize2,final notlarına notlarına göre harf notunu hesaplayın.\n",
    "\n",
    "    Vize1 toplam notun %30'una etki edecek.\n",
    "\n",
    "    Vize2 toplam notun %30'una etki edecek.\n",
    "\n",
    "    Final toplam notun %40'ına etki edecek.\n",
    "\n",
    "\n",
    "    Toplam Not >=  90 -----> AA\n",
    "\n",
    "    Toplam Not >=  80 -----> BA\n",
    "\n",
    "    Toplam Not >=  70 -----> BB\n",
    "\n",
    "    Toplam Not >=  60 -----> CB\n",
    "\n",
    "    Toplam Not >=  50 -----> CC\n",
    "\n",
    "    Toplam Not >=  40 -----> DC\n",
    "\n",
    "    Toplam Not >=  25 -----> DD\n",
    "\n",
    "    Toplam Not >=  10 -----> FD\n",
    "\n",
    "    Toplam Not <  10 -----> FF\n",
    "    \n",
    "### Problem 4\n",
    "Şimdi de geometrik şekil hesaplama işlemi yapalım. İlk olarak kullanıcıdan üçgenin mi dörtgenin mi tipini bulmak istediğini sorun.\n",
    "\n",
    "Eğer kullanıcı \"Dörtgen\" cevabını verirse , 4 tane kenar isteyip bu dörtgenin kare mi , dikdörtgen mi yoksa sıradan bir dörtgen mi olduğunu bulmaya çalışın.\n",
    "\n",
    "Eğer kullanıcı \"Üçgen\" cevabını verirse , 3 tane kenar isteyip bu üçgenin ikizkenar mı , eşkenar mı yoksa sıradan bir üçgen mi olduğunu bulmaya çalışın. Eğer verilen kenarlar bir üçgen belirtmiyorsa, ekrana \"Üçgen belirtmiyor\" şeklinde bir yazı yazın.o\n",
    "\n",
    "Üçgen belirtme şartını bilmiyorsunuz internetten bakabilirsiniz.\n",
    "\n",
    "Ayrıca , bu problemde mutlak değer bulmaya ihtiyacınız olacak. Bunun için, Pythonda hazır bir fonksiyon olan abs() fonksiyonunu kullanabilirsiniz. Kullanımı şu şekildedir ;"
   ]
  },
  {
   "cell_type": "code",
   "execution_count": 1,
   "id": "36a0aaa1",
   "metadata": {},
   "outputs": [
    {
     "data": {
      "text/plain": [
       "4"
      ]
     },
     "execution_count": 1,
     "metadata": {},
     "output_type": "execute_result"
    }
   ],
   "source": [
    "abs(-4)"
   ]
  },
  {
   "cell_type": "code",
   "execution_count": 2,
   "id": "1acf834a",
   "metadata": {},
   "outputs": [
    {
     "data": {
      "text/plain": [
       "5"
      ]
     },
     "execution_count": 2,
     "metadata": {},
     "output_type": "execute_result"
    }
   ],
   "source": [
    "abs(5)"
   ]
  },
  {
   "cell_type": "markdown",
   "id": "31ea69e9",
   "metadata": {},
   "source": [
    "*Not: Bu problem sizin algoritma kurma becerinizi bir hayli geliştirecektir.*\n",
    "\n",
    "Bu ödevde yararlandığım Mustafa Murat Coşkun'un ders içeriklerinden dolayı teşekkürlerimi iletirim"
   ]
  },
  {
   "cell_type": "code",
   "execution_count": 2,
   "id": "e9c93f72",
   "metadata": {},
   "outputs": [
    {
     "name": "stdout",
     "output_type": "stream",
     "text": [
      "Beden kitle indeksi uzerine yazdıgımız bu kod parcasına hos geldiniz...\n",
      "\n",
      "\n",
      "\n",
      "Lutfen kilonuzu kilogram cinsinden giriniz:    116\n",
      "Lutfen boyunuzu metre cinsinden giriniz:       1.74\n",
      "\n",
      "BKI olcumunuz cok yuksek,38.314176245210724\n",
      "30 ve uzeri obeziteye isaret eder\n"
     ]
    }
   ],
   "source": [
    "##Problem 1##\n",
    "\n",
    "\n",
    "print(\"Beden kitle indeksi uzerine yazdıgımız bu kod parcasına hos geldiniz...\\n\\n\\n\")\n",
    "kilo=float(input(\"Lutfen kilonuzu kilogram cinsinden giriniz:    \"))\n",
    "boy=float(input(\"Lutfen boyunuzu metre cinsinden giriniz:       \"))\n",
    "\n",
    "BedenKitleIndeksi= kilo/(boy**2)\n",
    "BKI= BedenKitleIndeksi/1\n",
    "\n",
    "if BKI>=30:\n",
    "    str(BKI)\n",
    "    print(\"\\nBKI olcumunuz cok yuksek,{}\\n30 ve uzeri obeziteye isaret eder\".format(BKI))\n",
    "elif 30>BKI and BKI>=25:\n",
    "    str(BKI)\n",
    "    print(\"\\nBKI olcumunuz yuksek,{}\\n30 ve 25 araligi yuksek kiloya isaret eder. Vucut yag oranınız %20'yi gecmemeli\".format(BKI))\n",
    "elif 25>BKI and BKI>=18.5:\n",
    "    str(BKI)\n",
    "    print(\"\\nBKI olcumunuz normal,{}\\n25 ve 18.5 araligi normal kiloya isaret eder.\".format(BKI))\n",
    "else:\n",
    "    str(BKI)\n",
    "    print(\"\\nBKI olcumunuz dusuk,{}\\n18.5'in altindaki bir BKI degeri normalin altinda kiloyu isaret eder.\".format(BKI))"
   ]
  },
  {
   "cell_type": "code",
   "execution_count": null,
   "id": "702fd2b1",
   "metadata": {},
   "outputs": [],
   "source": [
    "##Problem 2##\n",
    "\n",
    "\n",
    "x=float(input(\"Birbirinden farkli sayi giriniz  \"))\n",
    "y=float(input(\"Birbirinden farkli sayi giriniz  \"))\n",
    "z=float(input(\"Birbirinden farkli sayi giriniz  \"))\n",
    "\n",
    "if x>y:  \n",
    "    if y>z:\n",
    "        print(\"\\n{} en buyuk, {} en kucuk\".format(x,z))\n",
    "    elif x>z:\n",
    "        print(\"\\n{} en buyuk, {} en kucuk\".format(x,y))\n",
    "    else:\n",
    "        print(\"\\n{} en buyuk, {} en kucuk\".format(z,y))\n",
    "elif x>z:\n",
    "    print(\"\\n{} en buyuktur\".format(y))\n",
    "    \n",
    "elif y>z:\n",
    "    print(\"\\n{} en buyuktur, {} en kucuk\".format(y,x))\n",
    "elif z>y:\n",
    "    print(\"\\n{} en buyuktur, {} en kucuk\".format(z,x))\n",
    "else:\n",
    "    print(\"Girilen sayilerin hepsi birbirine esittir.\")"
   ]
  },
  {
   "cell_type": "code",
   "execution_count": 3,
   "id": "579305f3",
   "metadata": {},
   "outputs": [
    {
     "name": "stdout",
     "output_type": "stream",
     "text": [
      "İlk vizenizi girin\n",
      "77\n",
      "İkinci vizenizi girin\n",
      "96\n",
      "Finalinizi vizenizi girin\n",
      "64\n",
      "Toplam Not >=  70 -----> BB\n"
     ]
    }
   ],
   "source": [
    "##### Problem 3##\n",
    "\n",
    "\n",
    "Viz1=float(input(\"İlk vizenizi girin\\n\"))\n",
    "Viz2=float(input(\"İkinci vizenizi girin\\n\"))\n",
    "Final=float(input(\"Finalinizi vizenizi girin\\n\"))\n",
    "\n",
    "Grade=(4*Final/10)+(Viz1+Viz2)*3/10\n",
    "\n",
    "if Grade>90:\n",
    "    print(\"Toplam Not >=  90 -----> AA\")\n",
    "elif Grade>80:\n",
    "    print(\"Toplam Not >=  80 -----> BA\")\n",
    "elif Grade>70:\n",
    "    print(\"Toplam Not >=  70 -----> BB\")\n",
    "elif Grade>60:\n",
    "    print(\"Toplam Not >=  60 -----> CB\")\n",
    "elif Grade>50:\n",
    "    print(\"Toplam Not >=  50 -----> CC\")\n",
    "elif Grade>40:\n",
    "    print(\"Toplam Not >=  40 -----> DC\")\n",
    "elif Grade>25:\n",
    "    print(\"Toplam Not >=  25 -----> DD\")\n",
    "elif Grade>10:\n",
    "    print(\"Toplam Not >=  10 -----> FD\")\n",
    "else:\n",
    "    print(\"Toplam Not <  10 -----> FF\")\n",
    "    "
   ]
  },
  {
   "cell_type": "code",
   "execution_count": null,
   "id": "27a1ce48",
   "metadata": {},
   "outputs": [],
   "source": [
    "##Problem 4##\n",
    "\n",
    "\n",
    "x=input(\"dortgenin,tetragon, mi yoksa ucgenin,triangle, mi tipini bulmak istersiniz:      \")\n",
    "\n",
    "\n",
    "\n",
    "if x==\"tetragon\":\n",
    "    k=float(input(\"Dortkenar uzunluklarini giriniz   \"))\n",
    "    l=float(input(\"Dortkenar uzunluklarini giriniz   \"))\n",
    "    m=float(input(\"Dortkenar uzunluklarini giriniz   \"))\n",
    "    n=float(input(\"Dortkenar uzunluklarini giriniz   \"))\n",
    "    if k==l and m==n and l==m:\n",
    "        answer=str(input(\"Tüm kenarları birbirine dik mi? Evet (yes) ya da Hayir(no) yazin.   \"))\n",
    "        if answer==\"yes\":\n",
    "            print(\"bu bir kare\")\n",
    "        elif answer==\"no\":\n",
    "            print(\"Bu bir eskenar dortgen\")\n",
    "        else:\n",
    "            print(\"Anlasılamadı.\")\n",
    "    elif k==l or m==n or l==m:\n",
    "        answer=str(input(\"Tüm kenarları birbirine dik mi? Evet (yes) ya da Hayir(no) yazin.   \"))\n",
    "        if answer==\"yes\":\n",
    "            print(\"bu bir dikdortgen\")\n",
    "        elif answer==\"no\":\n",
    "            print(\"bu bir yamuk\")\n",
    "    else:\n",
    "        print(\"bu bir dörtgen\")\n",
    "        \n",
    "elif x==\"triangle\":\n",
    "    k=float(input(\"Ucgen uzunluklarini giriniz   \"))\n",
    "    l=float(input(\"Ucgen uzunluklarini giriniz   \"))\n",
    "    m=float(input(\"Ucgen uzunluklarini giriniz   \"))\n",
    "    if k==l and l==m:\n",
    "        print(\"Bu bir eskenar ucgen\")\n",
    "    elif k==l or l==m or m==k:\n",
    "        print(\"Bu bir ikizkenar ucgen\")\n",
    "    elif k!=l or l!=m or k!=m:\n",
    "        print(\"Bu bir cesitkenar ucgen\")\n",
    "    else:\n",
    "        print(\"Anlasılamadi\")\n",
    "else:\n",
    "    print(\"Anlasilmadi, lutfen tetragon ya da triangle yazınız. Diğer cokgenler için henüz hazırlanmamıstır\")"
   ]
  }
 ],
 "metadata": {
  "kernelspec": {
   "display_name": "Python 3 (ipykernel)",
   "language": "python",
   "name": "python3"
  },
  "language_info": {
   "codemirror_mode": {
    "name": "ipython",
    "version": 3
   },
   "file_extension": ".py",
   "mimetype": "text/x-python",
   "name": "python",
   "nbconvert_exporter": "python",
   "pygments_lexer": "ipython3",
   "version": "3.11.4"
  }
 },
 "nbformat": 4,
 "nbformat_minor": 5
}
