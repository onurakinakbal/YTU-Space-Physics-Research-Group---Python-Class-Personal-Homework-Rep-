{
 "cells": [
  {
   "cell_type": "markdown",
   "id": "49a6301e",
   "metadata": {
    "scrolled": true
   },
   "source": [
    "### Matris Nokta Çarpımı ###"
   ]
  },
  {
   "cell_type": "code",
   "execution_count": 2,
   "id": "2d4c34f3",
   "metadata": {},
   "outputs": [
    {
     "name": "stdout",
     "output_type": "stream",
     "text": [
      "For dot product of v.u, enter 'p'; for dot product of u.v, enter 'q'.     q\n",
      "[[-17, 22], [5, -6]]\n"
     ]
    }
   ],
   "source": [
    "v= [\n",
    "    [4,-5],\n",
    "    [-7,9]\n",
    "]\n",
    "\n",
    "u= [\n",
    "    [1,3],\n",
    "    [3,1]\n",
    "]\n",
    "             \n",
    "##p= v.u\n",
    "##q= u.v\n",
    "\n",
    "def matriscarpimi(arg):\n",
    "    if arg==\"p\":\n",
    "        p=[\n",
    "            [v[0][0]*u[0][0]+v[0][1]*u[1][0], v[0][0]*u[1][0]+v[0][1]*u[1][1]],\n",
    "            [v[1][0]*u[0][0]+v[1][1]*u[0][1], v[1][0]*u[0][1]+v[1][1]*u[1][1]]\n",
    "        ]\n",
    "        print(p)\n",
    "    elif arg==\"q\":\n",
    "        q=[\n",
    "            [u[0][0]*v[0][0]+u[0][1]*v[1][0], u[0][0]*v[0][1]+u[0][1]*v[1][1]],\n",
    "            [u[1][0]*v[0][0]+u[1][1]*v[1][0], u[1][0]*v[0][1]+u[1][1]*v[1][1]]\n",
    "        ]\n",
    "        print(q)\n",
    "        \n",
    "    else:\n",
    "        print(\"Your answer is not valid. Please just write down q or p.\")\n",
    "\n",
    "f=matriscarpimi(input(\"For dot product of v.u, enter 'p'; for dot product of u.v, enter 'q'.     \"))\n",
    "        \n",
    "\n"
   ]
  },
  {
   "cell_type": "code",
   "execution_count": 3,
   "id": "deb5d7f9",
   "metadata": {},
   "outputs": [
    {
     "name": "stdout",
     "output_type": "stream",
     "text": [
      "Hello there\n",
      "\n",
      "This code has written in order to calculate dot product between two 2x2 matrices such as v and u vector\n",
      "please write down x1 for v matrice   1\n",
      "please write down y1 for v matrice   0\n",
      "please write down x2 for v matrice   -4\n",
      "please write down y2 for v matrice   0\n",
      "please write down x1 for u matrice   1\n",
      "please write down y1 for u matrice   -4\n",
      "please write down x2 for u matrice   0\n",
      "please write down y2 for u matrice   0\n",
      "For dot product of v.u, enter 'p'; for dot product of u.v, enter 'q'.     p\n",
      "[[1.0, 0.0], [-4.0, 16.0]]\n"
     ]
    }
   ],
   "source": [
    "print(\"Hello there\\n\")\n",
    "print(\"This code has written in order to calculate dot product between two 2x2 matrices such as v and u vector\")\n",
    "\n",
    "\n",
    "a=float(input(\"please write down x1 for v matrice   \"))\n",
    "b=float(input(\"please write down y1 for v matrice   \"))\n",
    "c=float(input(\"please write down x2 for v matrice   \"))\n",
    "d=float(input(\"please write down y2 for v matrice   \"))\n",
    "\n",
    "i=float(input(\"please write down x1 for u matrice   \"))\n",
    "j=float(input(\"please write down y1 for u matrice   \"))\n",
    "k=float(input(\"please write down x2 for u matrice   \"))\n",
    "l=float(input(\"please write down y2 for u matrice   \"))\n",
    "\n",
    "\n",
    "v= [[a,b],\n",
    "    [c,d]]\n",
    "\n",
    "u= [[i,j],\n",
    "    [k,l]]\n",
    "             \n",
    "##p= v.u\n",
    "##q= u.v\n",
    "\n",
    "def matriscarpimi(arg):\n",
    "    if arg==\"p\":\n",
    "        p=[\n",
    "            [v[0][0]*u[0][0]+v[0][1]*u[1][0], v[0][0]*u[1][0]+v[0][1]*u[1][1]],\n",
    "            [v[1][0]*u[0][0]+v[1][1]*u[0][1], v[1][0]*u[0][1]+v[1][1]*u[1][1]]\n",
    "        ]\n",
    "        print(p)\n",
    "    elif arg==\"q\":\n",
    "        q=[\n",
    "            [u[0][0]*v[0][0]+u[0][1]*v[1][0], u[0][0]*v[0][1]+u[0][1]*v[1][1]],\n",
    "            [u[1][0]*v[0][0]+u[1][1]*v[1][0], u[1][0]*v[0][1]+u[1][1]*v[1][1]]\n",
    "        ]\n",
    "        print(q)\n",
    "        \n",
    "    else:\n",
    "        print(\"Your answer is not valid. Please just write down q or p.\")\n",
    "\n",
    "f=matriscarpimi(input(\"For dot product of v.u, enter 'p'; for dot product of u.v, enter 'q'.     \"))\n"
   ]
  },
  {
   "cell_type": "code",
   "execution_count": 5,
   "id": "6b815ff7",
   "metadata": {},
   "outputs": [
    {
     "name": "stdout",
     "output_type": "stream",
     "text": [
      "Hello there\n",
      "\n",
      "This code has written in order to calculate dot product between two 3x3 matrices such as v and u vector\n",
      "please write down x1 for v matrice   1\n",
      "please write down y1 for v matrice   0\n",
      "please write down z1 for v matrice   0\n",
      "please write down x2 for v matrice   -4\n",
      "please write down y2 for v matrice   0\n",
      "please write down z2 for v matrice   0\n",
      "please write down x3 for v matrice   0\n",
      "please write down y3 for v matrice   0\n",
      "please write down z3 for v matrice   0\n",
      "please write down x1 for u matrice   1\n",
      "please write down y1 for u matrice   -4\n",
      "please write down z1 for u matrice   0\n",
      "please write down x2 for u matrice   0\n",
      "please write down y2 for u matrice   0\n",
      "please write down z2 for u matrice   0\n",
      "please write down x3 for u matrice   0\n",
      "please write down y3 for u matrice   0\n",
      "please write down z3 for u matrice   0\n",
      "For dot product of v.u, enter 'P'; for dot product of u.v, enter 'Q'.     P\n",
      "[[1.0, -4.0, 0.0], [-4.0, 16.0, 0.0], [0.0, 0.0, 0.0]]\n"
     ]
    }
   ],
   "source": [
    "print(\"Hello there\\n\")\n",
    "print(\"This code has written in order to calculate dot product between two 3x3 matrices such as v and u vector\")\n",
    "\n",
    "\n",
    "a=float(input(\"please write down x1 for v matrice   \"))\n",
    "b=float(input(\"please write down y1 for v matrice   \"))\n",
    "c=float(input(\"please write down z1 for v matrice   \"))\n",
    "d=float(input(\"please write down x2 for v matrice   \"))\n",
    "e=float(input(\"please write down y2 for v matrice   \"))\n",
    "f=float(input(\"please write down z2 for v matrice   \"))\n",
    "g=float(input(\"please write down x3 for v matrice   \"))\n",
    "h=float(input(\"please write down y3 for v matrice   \"))\n",
    "i=float(input(\"please write down z3 for v matrice   \"))\n",
    "\n",
    "\n",
    "\n",
    "j=float(input(\"please write down x1 for u matrice   \"))\n",
    "k=float(input(\"please write down y1 for u matrice   \"))\n",
    "l=float(input(\"please write down z1 for u matrice   \"))\n",
    "m=float(input(\"please write down x2 for u matrice   \"))\n",
    "n=float(input(\"please write down y2 for u matrice   \"))\n",
    "o=float(input(\"please write down z2 for u matrice   \"))\n",
    "p=float(input(\"please write down x3 for u matrice   \"))\n",
    "q=float(input(\"please write down y3 for u matrice   \"))\n",
    "r=float(input(\"please write down z3 for u matrice   \"))\n",
    "\n",
    "\n",
    "v= [\n",
    "    [a,b,c],\n",
    "    [d,e,f],\n",
    "    [g,h,i]\n",
    "   ]\n",
    "\n",
    "\n",
    "u= [\n",
    "    [j,k,l],\n",
    "    [m,n,o],\n",
    "    [p,q,r]\n",
    "   ]\n",
    "             \n",
    "##P= v.u\n",
    "##Q= u.v\n",
    "\n",
    "def dotproduct(arg):\n",
    "    if arg==\"P\":\n",
    "        P=[\n",
    "            [v[0][0]*u[0][0]+v[0][1]*u[1][0]+v[0][2]*u[2][0], v[0][0]*u[0][1]+v[0][1]*u[1][1]+v[0][2]*u[2][1], v[0][0]*u[0][2]+v[0][1]*u[1][2]+v[0][2]*u[2][2]],\n",
    "            [v[1][0]*u[0][0]+v[1][1]*u[1][0]+v[1][2]*u[2][0], v[1][0]*u[0][1]+v[1][1]*u[1][1]+v[1][2]*u[2][1], v[1][0]*u[0][2]+v[1][1]*u[1][2]+v[1][2]*u[2][2]],\n",
    "            [v[2][0]*u[0][0]+v[2][1]*u[1][0]+v[2][2]*u[2][0], v[2][0]*u[0][1]+v[2][1]*u[1][1]+v[2][2]*u[2][1], v[2][0]*u[0][2]+v[2][1]*u[1][2]+v[2][2]*u[2][2]]\n",
    "        ]\n",
    "        print(P)\n",
    "    elif arg==\"Q\":\n",
    "        Q=[\n",
    "            [u[0][0]*v[0][0]+u[0][1]*v[1][0]+u[0][2]*v[2][0], u[0][0]*v[0][1]+u[0][1]*v[1][1]+u[0][2]*v[2][1], u[0][0]*v[0][2]+u[0][1]*v[1][2]+u[0][2]*v[2][2]],\n",
    "            [u[1][0]*v[0][0]+u[1][1]*v[1][0]+u[1][2]*v[2][0], u[1][0]*v[0][1]+u[1][1]*v[1][1]+u[1][2]*v[2][1], u[1][0]*v[0][2]+u[1][1]*v[1][2]+u[1][2]*v[2][2]],\n",
    "            [u[2][0]*v[0][0]+u[2][1]*v[1][0]+u[2][2]*v[2][0], u[2][0]*v[0][1]+u[2][1]*v[1][1]+u[2][2]*v[2][1], u[2][0]*v[0][2]+u[2][1]*v[1][2]+u[2][2]*v[2][2]]\n",
    "        ]\n",
    "        print(Q)\n",
    "        \n",
    "    else:\n",
    "        print(\"Your answer is not valid. Please restart the code and just write down Q or P.\")\n",
    "\n",
    "f=dotproduct(input(\"For dot product of v.u, enter 'P'; for dot product of u.v, enter 'Q'.     \"))"
   ]
  },
  {
   "cell_type": "markdown",
   "id": "9b6c57db",
   "metadata": {},
   "source": [
    "### FAKTÖRİYEL ###"
   ]
  },
  {
   "cell_type": "code",
   "execution_count": 132,
   "id": "3c88c606",
   "metadata": {},
   "outputs": [
    {
     "name": "stdout",
     "output_type": "stream",
     "text": [
      "Lütfen faktöriyelini görmek istediğiniz pozitif tam sayıyı girin:  9\n",
      "9!=362880\n"
     ]
    }
   ],
   "source": [
    "from functools import reduce\n",
    "list1=[]\n",
    "x=int(input(\"Lütfen faktöriyelini görmek istediğiniz pozitif tam sayıyı girin:  \"))\n",
    "list1.append(x)\n",
    "\n",
    "while x>1 and x!=0:\n",
    "    x=x-1\n",
    "    list1.append(x)\n",
    "u=max(list1)\n",
    "def multiply(a,b):\n",
    "    return a*b\n",
    "if x>0:\n",
    "        result=reduce(multiply,list1)\n",
    "        print(\"{}!={}\".format(u,result))\n",
    "elif x==0:\n",
    "    result=1\n",
    "    print(\"0!={}\".format(result))\n",
    "else:\n",
    "        print(\"There isn't an factorial of a negative number\")\n"
   ]
  },
  {
   "cell_type": "markdown",
   "id": "911a2172",
   "metadata": {},
   "source": [
    "### ASAL SAYILAR ###"
   ]
  },
  {
   "cell_type": "code",
   "execution_count": 66,
   "id": "64e6868d",
   "metadata": {},
   "outputs": [
    {
     "name": "stdout",
     "output_type": "stream",
     "text": [
      "[2, 3, 5, 7, 11, 13, 17, 19, 23, 29, 31, 37, 41, 43, 47, 53, 59, 61, 67, 71, 73, 79, 83, 89, 97]\n"
     ]
    }
   ],
   "source": [
    "def prime(sayi):\n",
    "    if sayi <= 1:\n",
    "        return False\n",
    "    for i in range(2, sayi):\n",
    "        if sayi % i == 0:\n",
    "            return False\n",
    "    return True\n",
    "\n",
    "\n",
    "asallar=list(filter(prime,range(1,101)))\n",
    "print(asallar)"
   ]
  },
  {
   "cell_type": "code",
   "execution_count": 2,
   "id": "4d22fc48",
   "metadata": {},
   "outputs": [
    {
     "data": {
      "text/plain": [
       "'Turkey'"
      ]
     },
     "execution_count": 2,
     "metadata": {},
     "output_type": "execute_result"
    }
   ],
   "source": [
    "list1=[\"Q\",\"Turkey\"]\n",
    "list1[1]"
   ]
  },
  {
   "cell_type": "code",
   "execution_count": null,
   "id": "a745ef25",
   "metadata": {},
   "outputs": [],
   "source": []
  }
 ],
 "metadata": {
  "kernelspec": {
   "display_name": "Python 3 (ipykernel)",
   "language": "python",
   "name": "python3"
  },
  "language_info": {
   "codemirror_mode": {
    "name": "ipython",
    "version": 3
   },
   "file_extension": ".py",
   "mimetype": "text/x-python",
   "name": "python",
   "nbconvert_exporter": "python",
   "pygments_lexer": "ipython3",
   "version": "3.11.4"
  }
 },
 "nbformat": 4,
 "nbformat_minor": 5
}
